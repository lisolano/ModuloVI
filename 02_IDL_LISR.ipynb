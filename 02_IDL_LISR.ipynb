{
  "cells": [
    {
      "cell_type": "markdown",
      "id": "b7cfafec",
      "metadata": {
        "id": "b7cfafec"
      },
      "source": [
        "# INTRODUCCIÓN A DEEP LEARNING\n",
        "## Trabajo adaptado por Lizeth Solano Romo, al trabajo original del Profesor Benjamin Oliva Vazquez, 1 mayo 2024\n",
        "\n",
        "## ¿Qué es el aprendizaje profundo?\n",
        "\n",
        "* Algunos de los avances más impresionantes en inteligencia artificial de los últimos años se han producido en el campo del aprendizaje profundo.\n",
        "\n",
        "* El procesamiento del lenguaje natural, el reconocimiento de imágenes y los juegos son tareas en las que los modelos de aprendizaje profundo se han acercado o incluso superado el rendimiento a nivel humano.\n",
        "\n",
        "* ¿Qué es el aprendizaje profundo? El aprendizaje profundo es un enfoque del aprendizaje automático que ha permitido identificar tipos de patrones complejos y jerárquicos que se encuentran en los conjuntos de datos más desafiantes del mundo real.\n",
        "\n",
        "El objetivo principal es presentar un proyecto sencillo de Deep Learning y practicar los principales usos de bibliotecas como `keras` o `tensorflow`."
      ]
    },
    {
      "cell_type": "markdown",
      "id": "180ec57f",
      "metadata": {
        "id": "180ec57f"
      },
      "source": [
        "# Load Data\n"
      ]
    },
    {
      "cell_type": "code",
      "execution_count": null,
      "id": "24458684",
      "metadata": {
        "id": "24458684"
      },
      "outputs": [],
      "source": [
        "#!pip install tensorflow"
      ]
    },
    {
      "cell_type": "code",
      "execution_count": 8,
      "id": "98df1401",
      "metadata": {
        "id": "98df1401"
      },
      "outputs": [],
      "source": [
        "# first neural network with keras tutorial\n",
        "from numpy import loadtxt\n",
        "from numpy import genfromtxt\n",
        "from tensorflow.keras.models import Sequential\n",
        "from tensorflow.keras.layers import Dense\n",
        "\n",
        "#\n",
        "import warnings\n",
        "warnings.filterwarnings('ignore')"
      ]
    },
    {
      "cell_type": "markdown",
      "id": "v8kMPnldvkGN",
      "metadata": {
        "id": "v8kMPnldvkGN"
      },
      "source": [
        "En esta clase de Keras, utilizaremos el conjunto de datos sobre la percepción de las mujeres con relación a las actitudes y justificaciones para cometer actos de violencia contra ellas.\n",
        "\n",
        "Este es un conjunto de datos de aprendizaje automático estándar del repositorio [Kaggle](https://www.kaggle.com/datasets/whenamancodes/violence-against-women-girls/data).\n",
        "\n",
        "Los datos que contiene esta BD, se tomaron de una encuesta realizada a hombres y mujeres en países africanos, asiáticos y sudamericanos, explorando las actitudes y las justificaciones percibidas dadas para cometer actos de violencia contra las mujeres. Los datos también exploran diferentes grupos sociodemográficos a los que pertenecen los encuestados, que incluyen: nivel de educación, estado civil, empleo y grupo de edad.\n",
        "\n",
        "Sin embargo, para este ejercicio solo se tomaron en considereación las observaciones realizadas por mujeres (desde una perspectiva feminista), y en particular, para países de SudAmérica. Esto con la intención de evidenciar la gravedad de la situación en el continente Americano y establecer campañas de concientización pública y al acceso de las mujeres y las niñas a la educación para comunicar que la violencia contra ellas, nunca es aceptable ni justificable.\n",
        "\n",
        "Para realizar este ejercicio, se realizaron ajustes a la BD para que todas las variables de entrada que describen a cada paparticipante fueran numéricas, facilitando su uso directamente con redes neuronales que esperan valores numéricos de entrada y salida y es una opción ideal para nuestra primera red neuronal en Keras.\n",
        "\n",
        "El conjunto de datos está disponible [aquí](hhttps://www.kaggle.com/datasets/whenamancodes/violence-against-women-girls/data). Es un archivo CSV del conjunto de datos (VAGG.csv). Los detalles del conjunto de datos esta disponible [aquí](https://raw.githubusercontent.com/lisolano/ModuloVI/main/VAGG.csv)."
      ]
    },
    {
      "cell_type": "markdown",
      "id": "E6GcwfXZMdWS",
      "metadata": {
        "id": "E6GcwfXZMdWS"
      },
      "source": [
        "Las variables usadas en la BD son:\n",
        "\n",
        "Variables de entrada (X):\n",
        "\n",
        "* Country\t= país\n",
        "* Demographics Question\t= pregunta demográfica\n",
        "* Demographics Response\t= respuesta demográfica\n",
        "* Question-cod\t=código de la pregunta\n",
        "* year\t= año\n",
        "* Value = valor\n",
        "\n",
        "Variable de salida (y):\n",
        "* SA (0 or 1) donde 1 es SudAmérica y 0 países en otros continentes\n"
      ]
    },
    {
      "cell_type": "code",
      "execution_count": 9,
      "id": "LneYsTRUSy1A",
      "metadata": {
        "colab": {
          "base_uri": "https://localhost:8080/"
        },
        "id": "LneYsTRUSy1A",
        "outputId": "63ee23a8-d0cd-4c72-bcb2-ec93fb6e955c"
      },
      "outputs": [
        {
          "output_type": "execute_result",
          "data": {
            "text/plain": [
              "array([[1.000e+00, 4.000e+00, 8.000e+00, ..., 2.015e+03, 0.000e+00,\n",
              "        0.000e+00],\n",
              "       [1.000e+00, 2.000e+00, 6.000e+00, ..., 2.015e+03, 4.500e+00,\n",
              "        0.000e+00],\n",
              "       [1.000e+00, 5.000e+00, 1.400e+01, ..., 2.015e+03, 4.600e+00,\n",
              "        0.000e+00],\n",
              "       ...,\n",
              "       [7.000e+01, 5.000e+00, 1.400e+01, ..., 2.015e+03, 1.500e+01,\n",
              "        0.000e+00],\n",
              "       [7.000e+01, 5.000e+00, 1.100e+01, ..., 2.015e+03, 7.200e+00,\n",
              "        0.000e+00],\n",
              "       [7.000e+01, 5.000e+00, 1.400e+01, ..., 2.015e+03, 3.700e+00,\n",
              "        0.000e+00]])"
            ]
          },
          "metadata": {},
          "execution_count": 9
        }
      ],
      "source": [
        "#\n",
        "\n",
        "dataset = loadtxt('https://raw.githubusercontent.com/lisolano/ModuloVI/main/VAGG.csv', delimiter=',', skiprows=1)\n",
        "\n",
        "dataset"
      ]
    },
    {
      "cell_type": "code",
      "execution_count": 10,
      "id": "_-Y46G4vSy32",
      "metadata": {
        "id": "_-Y46G4vSy32"
      },
      "outputs": [],
      "source": [
        "# split into input (X) and output (y) variables\n",
        "X = dataset[:,0:6]\n",
        "y = dataset[:,6]"
      ]
    },
    {
      "cell_type": "code",
      "source": [
        "X"
      ],
      "metadata": {
        "colab": {
          "base_uri": "https://localhost:8080/"
        },
        "id": "73mOaVpGcJmx",
        "outputId": "60e5ffa6-02a9-4280-8e31-19389df8bef3"
      },
      "id": "73mOaVpGcJmx",
      "execution_count": 11,
      "outputs": [
        {
          "output_type": "execute_result",
          "data": {
            "text/plain": [
              "array([[1.000e+00, 4.000e+00, 8.000e+00, 1.000e+00, 2.015e+03, 0.000e+00],\n",
              "       [1.000e+00, 2.000e+00, 6.000e+00, 1.000e+00, 2.015e+03, 4.500e+00],\n",
              "       [1.000e+00, 5.000e+00, 1.400e+01, 1.000e+00, 2.015e+03, 4.600e+00],\n",
              "       ...,\n",
              "       [7.000e+01, 5.000e+00, 1.400e+01, 4.000e+00, 2.015e+03, 1.500e+01],\n",
              "       [7.000e+01, 5.000e+00, 1.100e+01, 6.000e+00, 2.015e+03, 7.200e+00],\n",
              "       [7.000e+01, 5.000e+00, 1.400e+01, 6.000e+00, 2.015e+03, 3.700e+00]])"
            ]
          },
          "metadata": {},
          "execution_count": 11
        }
      ]
    },
    {
      "cell_type": "code",
      "source": [
        "y"
      ],
      "metadata": {
        "colab": {
          "base_uri": "https://localhost:8080/"
        },
        "id": "990TjemIcMb-",
        "outputId": "dc95458c-a809-4881-bf3c-b8842304dfbc"
      },
      "id": "990TjemIcMb-",
      "execution_count": 12,
      "outputs": [
        {
          "output_type": "execute_result",
          "data": {
            "text/plain": [
              "array([0., 0., 0., ..., 0., 0., 0.])"
            ]
          },
          "metadata": {},
          "execution_count": 12
        }
      ]
    },
    {
      "cell_type": "markdown",
      "id": "GDf75_ZDe895",
      "metadata": {
        "id": "GDf75_ZDe895"
      },
      "source": [
        "## Define Keras Model\n",
        "\n",
        "Los modelos en Keras se definen como una secuencia de capas.\n",
        "\n",
        "Creamos un modelo secuencial y agregamos capas una a la vez hasta que estemos satisfechos con nuestra arquitectura de red.\n",
        "\n",
        "Lo primero que hay que hacer es asegurarse de que la capa de entrada tenga la cantidad correcta de entidades de entrada. Esto se puede especificar al crear la primera capa con el argumento input_shape y configurarlo en (5,) para presentar las cinco variables de entrada como un vector.\n",
        "\n",
        "### ¿Cómo sabemos el número de capas y sus tipos?\n",
        "\n",
        "Esta es una pregunta complicada.\n",
        "\n",
        "Hay heurísticas que puede utilizar y, a menudo, la mejor estructura de red se encuentra mediante un proceso de experimentación de prueba y error.\n",
        "\n",
        "Generalmente, necesita una red lo suficientemente grande como para capturar la estructura del problema.\n",
        "\n",
        "En este ejemplo, usemos una estructura de red completamente conectada con tres capas.\n",
        "\n",
        "Las capas completamente conectadas se definen mediante la clase Dense.\n",
        "\n",
        "Puede especificar el número de neuronas o nodos en la capa como primer argumento y la función de activación utilizando el argumento de activación.\n",
        "\n",
        "**Además, utilizaremos la función de activación de unidad lineal rectificada denominada ReLU en las dos primeras capas y la función Sigmoidea en la capa de salida.**\n",
        "\n",
        "Solía darse el caso de que las funciones de activación Sigmoide y Tanh eran preferidas para todas las capas. Hoy en día, se logra un mejor rendimiento utilizando la función de activación ReLU.\n",
        "\n",
        "**El uso de un sigmoide en la capa de salida garantiza que la salida de su red esté entre 0 y 1 y es fácil de asignar a una probabilidad de clase 1 o ajustarse a una clasificación estricta de cualquier clase con un umbral predeterminado de 0.5.**\n",
        "\n",
        "En resumen:\n",
        "\n",
        "* El modelo espera filas de datos con 5 variables (el argumento input_shape =(5,)).\n",
        "* La primera capa oculta tiene 12 nodos y utiliza la función de activación ReLU.\n",
        "* La segunda capa oculta tiene 5 nodos y utiliza la función de activación ReLU.\n",
        "* La capa de salida tiene un nodo y utiliza la función de activación sigmoide."
      ]
    },
    {
      "cell_type": "code",
      "execution_count": 13,
      "id": "B3dRjRkLSy9V",
      "metadata": {
        "id": "B3dRjRkLSy9V"
      },
      "outputs": [],
      "source": [
        "#\n",
        "model = Sequential()\n",
        "\n",
        "model.add(Dense(12, input_shape = (6,), activation = 'relu'))\n",
        "\n",
        "model.add(Dense(6, activation = 'relu'))\n",
        "\n",
        "model.add(Dense(1, activation = 'sigmoid'))"
      ]
    },
    {
      "cell_type": "markdown",
      "id": "y7tz_FaAjlrm",
      "metadata": {
        "id": "y7tz_FaAjlrm"
      },
      "source": [
        "## Compile Keras Model\n",
        "\n",
        "La compilación del modelo utiliza bibliotecas numéricas eficientes (el llamado backend), como Theano o TensorFlow.\n",
        "\n",
        "El backend elige automáticamente la mejor manera de representar la red para entrenar y hacer predicciones para ejecutar en su hardware, como CPU, GPU o incluso distribuido.\n",
        "\n",
        "Al compilar, se debe especificar algunas propiedades adicionales necesarias al entrenar la red. Recuerde entrenar una red significa encontrar el mejor conjunto de ponderaciones para asignar entradas a salidas en su conjunto de datos.\n",
        "\n",
        "Debe especificar la función de pérdida que se utilizará para evaluar un conjunto de ponderaciones, el optimizador utilizado para buscar diferentes ponderaciones para la red y cualquier métrica opcional que desee recopilar e informar durante el entrenamiento.\n",
        "\n",
        "En este caso, utilizamos la **entropía cruzada** como argumento de pérdida. Esta pérdida es para problemas de clasificación binaria y se define en Keras como \"binary_crossentropy\".\n",
        "\n",
        "Definiremos el optimizador como el eficiente algoritmo de descenso de gradiente estocástico \"adam\". Esta es una versión popular del descenso de gradiente porque se sintoniza automáticamente y da buenos resultados en una amplia gama de problemas.\n",
        "\n",
        "Finalmente, debido a que se trata de un problema de clasificación, recopilará e informará la precisión de la clasificación definida mediante el argumento de métricas."
      ]
    },
    {
      "cell_type": "code",
      "execution_count": 14,
      "id": "UmxYLP9Vec42",
      "metadata": {
        "id": "UmxYLP9Vec42"
      },
      "outputs": [],
      "source": [
        "# compile the keras model\n",
        "model.compile(loss='binary_crossentropy', optimizer='adam', metrics=['accuracy'])"
      ]
    },
    {
      "cell_type": "markdown",
      "id": "wG9vQEcPkbMk",
      "metadata": {
        "id": "wG9vQEcPkbMk"
      },
      "source": [
        "## Fit Keras Model\n",
        "\n",
        "Ahora es el momento de ejecutar el modelo con algunos datos.\n",
        "\n",
        "Entrenamos o ajustamos el modelo a los datos cargados llamando a la función fit() en el modelo.\n",
        "\n",
        "El entrenamiento se produce a lo largo de épocas (epoch) y cada época se divide en lotes (batches).\n",
        "\n",
        "* Época: una pasada por todas las filas del conjunto de datos de entrenamiento\n",
        "\n",
        "* Lote: una o más muestras consideradas por el modelo dentro de una época antes de que se actualicen los pesos.\n",
        "\n",
        "**Una época comprende uno o más lotes, según el tamaño de lote elegido, y el modelo es apto para muchas épocas.**\n",
        "\n",
        "El proceso de entrenamiento se ejecutará durante un número fijo de épocas (iteraciones) a través del conjunto de datos que debe especificar mediante el argumento epochs.\n",
        "\n",
        "Se debe establecer el número de filas del conjunto de datos que se consideran antes de que se actualicen los pesos del modelo dentro de cada época, denominado tamaño de lote, y establecerlo mediante el argumento batch_size.\n",
        "\n",
        "Nuestro problema se ejecutará durante una pequeña cantidad de épocas (150) y utilizará un tamaño de lote relativamente pequeño de 10.\n",
        "\n",
        "**Estas configuraciones se pueden elegir experimentalmente mediante prueba y error.**"
      ]
    },
    {
      "cell_type": "code",
      "execution_count": 15,
      "id": "bX1_CPbLec7d",
      "metadata": {
        "id": "bX1_CPbLec7d",
        "colab": {
          "base_uri": "https://localhost:8080/"
        },
        "outputId": "9b30f5f8-08bf-457e-a57e-844435f984ef"
      },
      "outputs": [
        {
          "output_type": "stream",
          "name": "stdout",
          "text": [
            "Epoch 1/150\n",
            "630/630 [==============================] - 2s 2ms/step - loss: 53.5233 - accuracy: 0.7467\n",
            "Epoch 2/150\n",
            "630/630 [==============================] - 1s 2ms/step - loss: 0.5309 - accuracy: 0.8335\n",
            "Epoch 3/150\n",
            "630/630 [==============================] - 1s 2ms/step - loss: 0.6234 - accuracy: 0.8230\n",
            "Epoch 4/150\n",
            "630/630 [==============================] - 1s 2ms/step - loss: 0.5744 - accuracy: 0.8273\n",
            "Epoch 5/150\n",
            "630/630 [==============================] - 1s 2ms/step - loss: 0.6486 - accuracy: 0.8210\n",
            "Epoch 6/150\n",
            "630/630 [==============================] - 2s 3ms/step - loss: 0.5674 - accuracy: 0.8306\n",
            "Epoch 7/150\n",
            "630/630 [==============================] - 2s 3ms/step - loss: 0.5713 - accuracy: 0.8262\n",
            "Epoch 8/150\n",
            "630/630 [==============================] - 1s 2ms/step - loss: 0.6792 - accuracy: 0.8246\n",
            "Epoch 9/150\n",
            "630/630 [==============================] - 1s 2ms/step - loss: 0.5315 - accuracy: 0.8294\n",
            "Epoch 10/150\n",
            "630/630 [==============================] - 1s 2ms/step - loss: 0.6077 - accuracy: 0.8254\n",
            "Epoch 11/150\n",
            "630/630 [==============================] - 1s 2ms/step - loss: 0.5799 - accuracy: 0.8235\n",
            "Epoch 12/150\n",
            "630/630 [==============================] - 1s 2ms/step - loss: 0.5819 - accuracy: 0.8192\n",
            "Epoch 13/150\n",
            "630/630 [==============================] - 1s 2ms/step - loss: 0.4730 - accuracy: 0.8302\n",
            "Epoch 14/150\n",
            "630/630 [==============================] - 1s 2ms/step - loss: 0.5186 - accuracy: 0.8263\n",
            "Epoch 15/150\n",
            "630/630 [==============================] - 1s 2ms/step - loss: 0.6267 - accuracy: 0.8202\n",
            "Epoch 16/150\n",
            "630/630 [==============================] - 1s 2ms/step - loss: 0.5903 - accuracy: 0.8243\n",
            "Epoch 17/150\n",
            "630/630 [==============================] - 2s 2ms/step - loss: 0.6045 - accuracy: 0.8267\n",
            "Epoch 18/150\n",
            "630/630 [==============================] - 1s 2ms/step - loss: 0.6903 - accuracy: 0.8187\n",
            "Epoch 19/150\n",
            "630/630 [==============================] - 1s 2ms/step - loss: 0.6726 - accuracy: 0.8195\n",
            "Epoch 20/150\n",
            "630/630 [==============================] - 1s 2ms/step - loss: 0.5031 - accuracy: 0.8316\n",
            "Epoch 21/150\n",
            "630/630 [==============================] - 1s 2ms/step - loss: 0.5537 - accuracy: 0.8217\n",
            "Epoch 22/150\n",
            "630/630 [==============================] - 1s 2ms/step - loss: 0.4522 - accuracy: 0.8397\n",
            "Epoch 23/150\n",
            "630/630 [==============================] - 1s 2ms/step - loss: 0.5026 - accuracy: 0.8338\n",
            "Epoch 24/150\n",
            "630/630 [==============================] - 1s 2ms/step - loss: 0.5717 - accuracy: 0.8246\n",
            "Epoch 25/150\n",
            "630/630 [==============================] - 1s 2ms/step - loss: 0.6070 - accuracy: 0.8265\n",
            "Epoch 26/150\n",
            "630/630 [==============================] - 1s 2ms/step - loss: 0.5332 - accuracy: 0.8270\n",
            "Epoch 27/150\n",
            "630/630 [==============================] - 1s 2ms/step - loss: 0.4822 - accuracy: 0.8344\n",
            "Epoch 28/150\n",
            "630/630 [==============================] - 2s 2ms/step - loss: 0.5052 - accuracy: 0.8335\n",
            "Epoch 29/150\n",
            "630/630 [==============================] - 1s 2ms/step - loss: 0.5955 - accuracy: 0.8238\n",
            "Epoch 30/150\n",
            "630/630 [==============================] - 1s 2ms/step - loss: 0.4813 - accuracy: 0.8306\n",
            "Epoch 31/150\n",
            "630/630 [==============================] - 1s 2ms/step - loss: 0.4428 - accuracy: 0.8397\n",
            "Epoch 32/150\n",
            "630/630 [==============================] - 1s 2ms/step - loss: 0.5158 - accuracy: 0.8314\n",
            "Epoch 33/150\n",
            "630/630 [==============================] - 1s 2ms/step - loss: 0.5087 - accuracy: 0.8327\n",
            "Epoch 34/150\n",
            "630/630 [==============================] - 2s 2ms/step - loss: 0.5544 - accuracy: 0.8243\n",
            "Epoch 35/150\n",
            "630/630 [==============================] - 1s 2ms/step - loss: 0.5443 - accuracy: 0.8240\n",
            "Epoch 36/150\n",
            "630/630 [==============================] - 1s 2ms/step - loss: 0.4655 - accuracy: 0.8367\n",
            "Epoch 37/150\n",
            "630/630 [==============================] - 1s 2ms/step - loss: 0.5457 - accuracy: 0.8286\n",
            "Epoch 38/150\n",
            "630/630 [==============================] - 1s 2ms/step - loss: 0.5019 - accuracy: 0.8268\n",
            "Epoch 39/150\n",
            "630/630 [==============================] - 1s 2ms/step - loss: 0.5050 - accuracy: 0.8325\n",
            "Epoch 40/150\n",
            "630/630 [==============================] - 1s 2ms/step - loss: 0.5299 - accuracy: 0.8302\n",
            "Epoch 41/150\n",
            "630/630 [==============================] - 1s 2ms/step - loss: 0.5369 - accuracy: 0.8281\n",
            "Epoch 42/150\n",
            "630/630 [==============================] - 1s 2ms/step - loss: 0.4445 - accuracy: 0.8356\n",
            "Epoch 43/150\n",
            "630/630 [==============================] - 1s 2ms/step - loss: 0.5015 - accuracy: 0.8290\n",
            "Epoch 44/150\n",
            "630/630 [==============================] - 1s 2ms/step - loss: 0.4653 - accuracy: 0.8363\n",
            "Epoch 45/150\n",
            "630/630 [==============================] - 1s 2ms/step - loss: 0.5115 - accuracy: 0.8332\n",
            "Epoch 46/150\n",
            "630/630 [==============================] - 1s 2ms/step - loss: 0.4124 - accuracy: 0.8359\n",
            "Epoch 47/150\n",
            "630/630 [==============================] - 1s 2ms/step - loss: 0.4864 - accuracy: 0.8300\n",
            "Epoch 48/150\n",
            "630/630 [==============================] - 1s 2ms/step - loss: 0.4983 - accuracy: 0.8246\n",
            "Epoch 49/150\n",
            "630/630 [==============================] - 2s 2ms/step - loss: 0.4791 - accuracy: 0.8338\n",
            "Epoch 50/150\n",
            "630/630 [==============================] - 1s 2ms/step - loss: 0.4969 - accuracy: 0.8360\n",
            "Epoch 51/150\n",
            "630/630 [==============================] - 1s 2ms/step - loss: 0.4217 - accuracy: 0.8421\n",
            "Epoch 52/150\n",
            "630/630 [==============================] - 1s 2ms/step - loss: 0.4714 - accuracy: 0.8340\n",
            "Epoch 53/150\n",
            "630/630 [==============================] - 1s 2ms/step - loss: 0.4616 - accuracy: 0.8352\n",
            "Epoch 54/150\n",
            "630/630 [==============================] - 1s 2ms/step - loss: 0.4230 - accuracy: 0.8349\n",
            "Epoch 55/150\n",
            "630/630 [==============================] - 1s 2ms/step - loss: 0.4199 - accuracy: 0.8387\n",
            "Epoch 56/150\n",
            "630/630 [==============================] - 1s 2ms/step - loss: 0.4521 - accuracy: 0.8368\n",
            "Epoch 57/150\n",
            "630/630 [==============================] - 1s 2ms/step - loss: 0.4500 - accuracy: 0.8408\n",
            "Epoch 58/150\n",
            "630/630 [==============================] - 1s 2ms/step - loss: 0.4374 - accuracy: 0.8349\n",
            "Epoch 59/150\n",
            "630/630 [==============================] - 1s 2ms/step - loss: 0.4223 - accuracy: 0.8370\n",
            "Epoch 60/150\n",
            "630/630 [==============================] - 1s 2ms/step - loss: 0.4238 - accuracy: 0.8394\n",
            "Epoch 61/150\n",
            "630/630 [==============================] - 1s 2ms/step - loss: 0.4363 - accuracy: 0.8429\n",
            "Epoch 62/150\n",
            "630/630 [==============================] - 1s 2ms/step - loss: 0.3919 - accuracy: 0.8402\n",
            "Epoch 63/150\n",
            "630/630 [==============================] - 1s 2ms/step - loss: 0.3961 - accuracy: 0.8419\n",
            "Epoch 64/150\n",
            "630/630 [==============================] - 1s 2ms/step - loss: 0.4339 - accuracy: 0.8371\n",
            "Epoch 65/150\n",
            "630/630 [==============================] - 1s 2ms/step - loss: 0.4098 - accuracy: 0.8402\n",
            "Epoch 66/150\n",
            "630/630 [==============================] - 1s 2ms/step - loss: 0.4004 - accuracy: 0.8484\n",
            "Epoch 67/150\n",
            "630/630 [==============================] - 1s 2ms/step - loss: 0.4124 - accuracy: 0.8430\n",
            "Epoch 68/150\n",
            "630/630 [==============================] - 1s 2ms/step - loss: 0.3574 - accuracy: 0.8517\n",
            "Epoch 69/150\n",
            "630/630 [==============================] - 1s 2ms/step - loss: 0.3906 - accuracy: 0.8471\n",
            "Epoch 70/150\n",
            "630/630 [==============================] - 1s 2ms/step - loss: 0.3466 - accuracy: 0.8540\n",
            "Epoch 71/150\n",
            "630/630 [==============================] - 1s 2ms/step - loss: 0.3643 - accuracy: 0.8532\n",
            "Epoch 72/150\n",
            "630/630 [==============================] - 1s 2ms/step - loss: 0.3551 - accuracy: 0.8503\n",
            "Epoch 73/150\n",
            "630/630 [==============================] - 1s 2ms/step - loss: 0.3813 - accuracy: 0.8470\n",
            "Epoch 74/150\n",
            "630/630 [==============================] - 1s 2ms/step - loss: 0.3951 - accuracy: 0.8468\n",
            "Epoch 75/150\n",
            "630/630 [==============================] - 1s 2ms/step - loss: 0.3734 - accuracy: 0.8478\n",
            "Epoch 76/150\n",
            "630/630 [==============================] - 1s 2ms/step - loss: 0.3533 - accuracy: 0.8549\n",
            "Epoch 77/150\n",
            "630/630 [==============================] - 1s 2ms/step - loss: 0.3613 - accuracy: 0.8570\n",
            "Epoch 78/150\n",
            "630/630 [==============================] - 1s 2ms/step - loss: 0.3719 - accuracy: 0.8492\n",
            "Epoch 79/150\n",
            "630/630 [==============================] - 1s 2ms/step - loss: 0.3421 - accuracy: 0.8540\n",
            "Epoch 80/150\n",
            "630/630 [==============================] - 1s 2ms/step - loss: 0.3516 - accuracy: 0.8573\n",
            "Epoch 81/150\n",
            "630/630 [==============================] - 1s 2ms/step - loss: 0.3906 - accuracy: 0.8463\n",
            "Epoch 82/150\n",
            "630/630 [==============================] - 1s 2ms/step - loss: 0.3617 - accuracy: 0.8467\n",
            "Epoch 83/150\n",
            "630/630 [==============================] - 2s 2ms/step - loss: 0.3734 - accuracy: 0.8530\n",
            "Epoch 84/150\n",
            "630/630 [==============================] - 1s 2ms/step - loss: 0.3785 - accuracy: 0.8490\n",
            "Epoch 85/150\n",
            "630/630 [==============================] - 1s 2ms/step - loss: 0.3821 - accuracy: 0.8462\n",
            "Epoch 86/150\n",
            "630/630 [==============================] - 1s 2ms/step - loss: 0.3568 - accuracy: 0.8500\n",
            "Epoch 87/150\n",
            "630/630 [==============================] - 1s 2ms/step - loss: 0.3535 - accuracy: 0.8516\n",
            "Epoch 88/150\n",
            "630/630 [==============================] - 1s 2ms/step - loss: 0.3495 - accuracy: 0.8537\n",
            "Epoch 89/150\n",
            "630/630 [==============================] - 1s 2ms/step - loss: 0.3592 - accuracy: 0.8540\n",
            "Epoch 90/150\n",
            "630/630 [==============================] - 1s 2ms/step - loss: 0.3468 - accuracy: 0.8538\n",
            "Epoch 91/150\n",
            "630/630 [==============================] - 1s 2ms/step - loss: 0.3373 - accuracy: 0.8511\n",
            "Epoch 92/150\n",
            "630/630 [==============================] - 1s 2ms/step - loss: 0.3855 - accuracy: 0.8481\n",
            "Epoch 93/150\n",
            "630/630 [==============================] - 1s 2ms/step - loss: 0.3326 - accuracy: 0.8529\n",
            "Epoch 94/150\n",
            "630/630 [==============================] - 1s 2ms/step - loss: 0.3393 - accuracy: 0.8570\n",
            "Epoch 95/150\n",
            "630/630 [==============================] - 1s 2ms/step - loss: 0.3333 - accuracy: 0.8527\n",
            "Epoch 96/150\n",
            "630/630 [==============================] - 1s 2ms/step - loss: 0.3436 - accuracy: 0.8579\n",
            "Epoch 97/150\n",
            "630/630 [==============================] - 1s 2ms/step - loss: 0.3338 - accuracy: 0.8540\n",
            "Epoch 98/150\n",
            "630/630 [==============================] - 1s 2ms/step - loss: 0.3531 - accuracy: 0.8508\n",
            "Epoch 99/150\n",
            "630/630 [==============================] - 1s 2ms/step - loss: 0.3257 - accuracy: 0.8546\n",
            "Epoch 100/150\n",
            "630/630 [==============================] - 1s 2ms/step - loss: 0.3228 - accuracy: 0.8543\n",
            "Epoch 101/150\n",
            "630/630 [==============================] - 1s 2ms/step - loss: 0.3413 - accuracy: 0.8508\n",
            "Epoch 102/150\n",
            "630/630 [==============================] - 1s 2ms/step - loss: 0.3325 - accuracy: 0.8579\n",
            "Epoch 103/150\n",
            "630/630 [==============================] - 1s 2ms/step - loss: 0.3462 - accuracy: 0.8506\n",
            "Epoch 104/150\n",
            "630/630 [==============================] - 1s 2ms/step - loss: 0.3442 - accuracy: 0.8537\n",
            "Epoch 105/150\n",
            "630/630 [==============================] - 1s 2ms/step - loss: 0.3258 - accuracy: 0.8559\n",
            "Epoch 106/150\n",
            "630/630 [==============================] - 1s 2ms/step - loss: 0.3301 - accuracy: 0.8581\n",
            "Epoch 107/150\n",
            "630/630 [==============================] - 1s 2ms/step - loss: 0.3071 - accuracy: 0.8590\n",
            "Epoch 108/150\n",
            "630/630 [==============================] - 1s 2ms/step - loss: 0.3391 - accuracy: 0.8503\n",
            "Epoch 109/150\n",
            "630/630 [==============================] - 1s 2ms/step - loss: 0.3243 - accuracy: 0.8544\n",
            "Epoch 110/150\n",
            "630/630 [==============================] - 1s 2ms/step - loss: 0.3178 - accuracy: 0.8575\n",
            "Epoch 111/150\n",
            "630/630 [==============================] - 1s 2ms/step - loss: 0.3200 - accuracy: 0.8570\n",
            "Epoch 112/150\n",
            "630/630 [==============================] - 1s 2ms/step - loss: 0.3315 - accuracy: 0.8508\n",
            "Epoch 113/150\n",
            "630/630 [==============================] - 1s 2ms/step - loss: 0.3103 - accuracy: 0.8611\n",
            "Epoch 114/150\n",
            "630/630 [==============================] - 1s 2ms/step - loss: 0.3224 - accuracy: 0.8606\n",
            "Epoch 115/150\n",
            "630/630 [==============================] - 1s 2ms/step - loss: 0.3205 - accuracy: 0.8543\n",
            "Epoch 116/150\n",
            "630/630 [==============================] - 1s 2ms/step - loss: 0.3143 - accuracy: 0.8557\n",
            "Epoch 117/150\n",
            "630/630 [==============================] - 1s 2ms/step - loss: 0.3289 - accuracy: 0.8562\n",
            "Epoch 118/150\n",
            "630/630 [==============================] - 1s 2ms/step - loss: 0.3076 - accuracy: 0.8544\n",
            "Epoch 119/150\n",
            "630/630 [==============================] - 1s 2ms/step - loss: 0.3092 - accuracy: 0.8594\n",
            "Epoch 120/150\n",
            "630/630 [==============================] - 1s 2ms/step - loss: 0.3171 - accuracy: 0.8508\n",
            "Epoch 121/150\n",
            "630/630 [==============================] - 1s 2ms/step - loss: 0.3002 - accuracy: 0.8606\n",
            "Epoch 122/150\n",
            "630/630 [==============================] - 1s 2ms/step - loss: 0.3039 - accuracy: 0.8589\n",
            "Epoch 123/150\n",
            "630/630 [==============================] - 1s 2ms/step - loss: 0.3180 - accuracy: 0.8540\n",
            "Epoch 124/150\n",
            "630/630 [==============================] - 1s 2ms/step - loss: 0.3120 - accuracy: 0.8571\n",
            "Epoch 125/150\n",
            "630/630 [==============================] - 1s 2ms/step - loss: 0.2997 - accuracy: 0.8595\n",
            "Epoch 126/150\n",
            "630/630 [==============================] - 1s 2ms/step - loss: 0.2925 - accuracy: 0.8605\n",
            "Epoch 127/150\n",
            "630/630 [==============================] - 1s 2ms/step - loss: 0.3162 - accuracy: 0.8551\n",
            "Epoch 128/150\n",
            "630/630 [==============================] - 1s 2ms/step - loss: 0.3058 - accuracy: 0.8578\n",
            "Epoch 129/150\n",
            "630/630 [==============================] - 1s 2ms/step - loss: 0.2933 - accuracy: 0.8630\n",
            "Epoch 130/150\n",
            "630/630 [==============================] - 1s 2ms/step - loss: 0.3137 - accuracy: 0.8598\n",
            "Epoch 131/150\n",
            "630/630 [==============================] - 1s 2ms/step - loss: 0.2978 - accuracy: 0.8606\n",
            "Epoch 132/150\n",
            "630/630 [==============================] - 1s 2ms/step - loss: 0.2857 - accuracy: 0.8603\n",
            "Epoch 133/150\n",
            "630/630 [==============================] - 1s 2ms/step - loss: 0.2997 - accuracy: 0.8563\n",
            "Epoch 134/150\n",
            "630/630 [==============================] - 1s 2ms/step - loss: 0.3000 - accuracy: 0.8581\n",
            "Epoch 135/150\n",
            "630/630 [==============================] - 1s 2ms/step - loss: 0.2906 - accuracy: 0.8606\n",
            "Epoch 136/150\n",
            "630/630 [==============================] - 1s 2ms/step - loss: 0.2911 - accuracy: 0.8635\n",
            "Epoch 137/150\n",
            "630/630 [==============================] - 1s 2ms/step - loss: 0.2927 - accuracy: 0.8621\n",
            "Epoch 138/150\n",
            "630/630 [==============================] - 1s 2ms/step - loss: 0.2877 - accuracy: 0.8632\n",
            "Epoch 139/150\n",
            "630/630 [==============================] - 1s 2ms/step - loss: 0.2901 - accuracy: 0.8621\n",
            "Epoch 140/150\n",
            "630/630 [==============================] - 1s 2ms/step - loss: 0.2893 - accuracy: 0.8589\n",
            "Epoch 141/150\n",
            "630/630 [==============================] - 1s 2ms/step - loss: 0.2944 - accuracy: 0.8610\n",
            "Epoch 142/150\n",
            "630/630 [==============================] - 1s 2ms/step - loss: 0.2929 - accuracy: 0.8619\n",
            "Epoch 143/150\n",
            "630/630 [==============================] - 1s 2ms/step - loss: 0.2903 - accuracy: 0.8629\n",
            "Epoch 144/150\n",
            "630/630 [==============================] - 1s 2ms/step - loss: 0.2887 - accuracy: 0.8640\n",
            "Epoch 145/150\n",
            "630/630 [==============================] - 1s 2ms/step - loss: 0.2846 - accuracy: 0.8665\n",
            "Epoch 146/150\n",
            "630/630 [==============================] - 1s 2ms/step - loss: 0.2851 - accuracy: 0.8638\n",
            "Epoch 147/150\n",
            "630/630 [==============================] - 1s 2ms/step - loss: 0.2857 - accuracy: 0.8622\n",
            "Epoch 148/150\n",
            "630/630 [==============================] - 1s 2ms/step - loss: 0.2774 - accuracy: 0.8678\n",
            "Epoch 149/150\n",
            "630/630 [==============================] - 1s 2ms/step - loss: 0.2760 - accuracy: 0.8646\n",
            "Epoch 150/150\n",
            "630/630 [==============================] - 2s 2ms/step - loss: 0.2809 - accuracy: 0.8644\n"
          ]
        },
        {
          "output_type": "execute_result",
          "data": {
            "text/plain": [
              "<keras.src.callbacks.History at 0x7ed36f99d540>"
            ]
          },
          "metadata": {},
          "execution_count": 15
        }
      ],
      "source": [
        "# fit the keras model on the dataset\n",
        "model.fit(X, y, epochs=150, batch_size=10)"
      ]
    },
    {
      "cell_type": "markdown",
      "id": "a6ehamezl_7x",
      "metadata": {
        "id": "a6ehamezl_7x"
      },
      "source": [
        "## Evaluate Keras Model\n",
        "\n",
        "Una vez entrenada nuestra red neuronal en todo el conjunto de datos y podemos evaluar el rendimiento de la red en el mismo conjunto de datos.\n",
        "\n",
        "Esto nos dará una idea de qué tan bien ha modelado el conjunto de datos, pero no da idea de qué tan bien podría funcionar el algoritmo con datos nuevos.\n",
        "\n",
        "**Esto se hizo por simplicidad, pero lo ideal sería separar los datos en conjuntos de datos de entrenamiento y prueba para entrenar y evaluar su modelo.**\n",
        "\n",
        "Podemos evaluar el modelo en el conjunto de datos de entrenamiento usando la función evaluate() y pasarle la misma entrada y salida utilizada para entrenar el modelo.\n",
        "\n",
        "Esto generará una predicción para cada par de entrada y salida y recopilará puntuaciones, incluida la pérdida promedio y cualquier métrica que haya configurado, como la precisión.\n",
        "\n",
        "La función evaluate() devolverá una lista con dos valores. El primero será la pérdida del modelo en el conjunto de datos y el segundo será la precisión del modelo en el conjunto de datos. Habitualmente sólo interesa informar la precisión, así que podemos ignorar el valor de la pérdida."
      ]
    },
    {
      "cell_type": "code",
      "execution_count": 16,
      "id": "nqS7c_Vgec-k",
      "metadata": {
        "colab": {
          "base_uri": "https://localhost:8080/"
        },
        "id": "nqS7c_Vgec-k",
        "outputId": "95161e80-28b7-4f4b-8dbe-249cf0d4a18d"
      },
      "outputs": [
        {
          "output_type": "stream",
          "name": "stdout",
          "text": [
            "197/197 [==============================] - 0s 2ms/step - loss: 0.2643 - accuracy: 0.8759\n",
            "Accuracy: 87.59\n"
          ]
        }
      ],
      "source": [
        "# evaluate the keras model\n",
        "_, accuracy = model.evaluate(X, y)\n",
        "print('Accuracy: %.2f' % (accuracy*100))"
      ]
    },
    {
      "cell_type": "markdown",
      "source": [
        "Este resultado obtenido indica que el modelo de Keras ha sido evaluado en un conjunto de datos de **197 muestras**, y ha obtenido una **pérdida de 0.2643** y una **precisión del 87.59%**.\n",
        "\n",
        "Esto sugiere un buen rendimiento del modelo en la tarea de clasificación o predicción para la que fue entrenado.\n",
        "\n",
        "La precisión del **87.59%** es un valor *relativamente alto*, lo que significa que el modelo está *clasificando o prediciendo correctamente en aproximadamente el 87.59% de los* casos en el conjunto de datos de evaluación de la precepción de mujeres violentadas en países sudamericanos."
      ],
      "metadata": {
        "id": "RAjncrzjfbxm"
      },
      "id": "RAjncrzjfbxm"
    },
    {
      "cell_type": "markdown",
      "id": "tJ59iDhcnc3t",
      "metadata": {
        "id": "tJ59iDhcnc3t"
      },
      "source": [
        "## Nota importante:\n",
        "\n",
        "Si intenta ejecutar este ejemplo en una computadora portátil IPython o Jupyter, es posible que obtenga un error.\n",
        "\n",
        "El motivo son las barras de progreso de salida durante el entrenamiento. Puede desactivarlos fácilmente configurando verbose=0 en la llamada a las funciones fit() y evalua(); Por ejemplo:"
      ]
    },
    {
      "cell_type": "code",
      "execution_count": 17,
      "id": "PGY2wtI4edBL",
      "metadata": {
        "id": "PGY2wtI4edBL"
      },
      "outputs": [],
      "source": [
        "# fit the keras model on the dataset without progress bars\n",
        "model.fit(X, y, epochs=150, batch_size=10, verbose=0)\n",
        "# evaluate the keras model\n",
        "_, accuracy = model.evaluate(X, y, verbose=0)"
      ]
    },
    {
      "cell_type": "markdown",
      "id": "uhofO3HxoFiW",
      "metadata": {
        "id": "uhofO3HxoFiW"
      },
      "source": [
        "## Make Predictions"
      ]
    },
    {
      "cell_type": "code",
      "execution_count": 18,
      "id": "U3ko0zahedDy",
      "metadata": {
        "colab": {
          "base_uri": "https://localhost:8080/"
        },
        "id": "U3ko0zahedDy",
        "outputId": "a001cc4f-1006-4095-e7d9-b2d2a3eac246"
      },
      "outputs": [
        {
          "output_type": "stream",
          "name": "stdout",
          "text": [
            "197/197 [==============================] - 0s 1ms/step\n"
          ]
        },
        {
          "output_type": "execute_result",
          "data": {
            "text/plain": [
              "array([[2.2554575e-03],\n",
              "       [6.0567832e-05],\n",
              "       [5.4873366e-05],\n",
              "       [3.3977933e-05],\n",
              "       [1.4100157e-05],\n",
              "       [1.3939024e-05],\n",
              "       [7.3739070e-06],\n",
              "       [3.1000754e-06],\n",
              "       [2.6231492e-06],\n",
              "       [2.4039991e-06]], dtype=float32)"
            ]
          },
          "metadata": {},
          "execution_count": 18
        }
      ],
      "source": [
        "# make probability predictions with the model\n",
        "predictions = model.predict(X)\n",
        "\n",
        "predictions[:10]"
      ]
    },
    {
      "cell_type": "code",
      "execution_count": 19,
      "id": "cbYFLYlwojl8",
      "metadata": {
        "colab": {
          "base_uri": "https://localhost:8080/"
        },
        "id": "cbYFLYlwojl8",
        "outputId": "b68255ff-087d-4f45-d8b6-5e4a76d15eb7"
      },
      "outputs": [
        {
          "output_type": "execute_result",
          "data": {
            "text/plain": [
              "[0, 0, 0, 0, 0, 0, 0, 0, 0, 0]"
            ]
          },
          "metadata": {},
          "execution_count": 19
        }
      ],
      "source": [
        "# round predictions\n",
        "rounded = [round(x[0]) for x in predictions]\n",
        "\n",
        "rounded[:10]"
      ]
    },
    {
      "cell_type": "code",
      "execution_count": 20,
      "id": "mIEMxt2HedGZ",
      "metadata": {
        "colab": {
          "base_uri": "https://localhost:8080/"
        },
        "id": "mIEMxt2HedGZ",
        "outputId": "684cb112-6406-4fe3-ac23-e6466846e12b"
      },
      "outputs": [
        {
          "output_type": "stream",
          "name": "stdout",
          "text": [
            "197/197 [==============================] - 0s 2ms/step\n"
          ]
        },
        {
          "output_type": "execute_result",
          "data": {
            "text/plain": [
              "array([[0],\n",
              "       [0],\n",
              "       [0],\n",
              "       [0],\n",
              "       [0],\n",
              "       [0],\n",
              "       [0],\n",
              "       [0],\n",
              "       [0],\n",
              "       [0]])"
            ]
          },
          "metadata": {},
          "execution_count": 20
        }
      ],
      "source": [
        "# Alternately, you can convert the probability into 0 or 1 to predict crisp classes directly; for example:\n",
        "\n",
        "# make class predictions with the model\n",
        "predictions = (model.predict(X) > 0.5).astype(int)\n",
        "\n",
        "predictions[:10]"
      ]
    }
  ],
  "metadata": {
    "colab": {
      "provenance": []
    },
    "kernelspec": {
      "display_name": "Python 3 (ipykernel)",
      "language": "python",
      "name": "python3"
    },
    "language_info": {
      "codemirror_mode": {
        "name": "ipython",
        "version": 3
      },
      "file_extension": ".py",
      "mimetype": "text/x-python",
      "name": "python",
      "nbconvert_exporter": "python",
      "pygments_lexer": "ipython3",
      "version": "3.10.14"
    },
    "papermill": {
      "default_parameters": {},
      "duration": 1666.680651,
      "end_time": "2023-03-16T00:12:37.486600",
      "environment_variables": {},
      "exception": null,
      "input_path": "__notebook__.ipynb",
      "output_path": "__notebook__.ipynb",
      "parameters": {},
      "start_time": "2023-03-15T23:44:50.805949",
      "version": "2.3.4"
    }
  },
  "nbformat": 4,
  "nbformat_minor": 5
}